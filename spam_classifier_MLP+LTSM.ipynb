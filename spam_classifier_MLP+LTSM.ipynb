{
 "cells": [
  {
   "cell_type": "markdown",
   "id": "ff9e6024-8c9a-482c-936d-e71d9ed29fa8",
   "metadata": {},
   "source": [
    "# Spam classifier using classic MLP + LTSM"
   ]
  },
  {
   "cell_type": "markdown",
   "id": "48bd68ce-15b5-4005-a358-6fb5dbbf2474",
   "metadata": {},
   "source": [
    "## We will use the popular SMS Spam Collection dataset. It contains around 5,500 text messages labeled as either \"spam\" or \"not spam.\""
   ]
  },
  {
   "cell_type": "code",
   "execution_count": 9,
   "id": "8ccc91ec-27eb-4551-b644-1e15ca2bc8ea",
   "metadata": {},
   "outputs": [],
   "source": [
    "import pandas as pd\n",
    "\n",
    "url = 'https://raw.githubusercontent.com/justmarkham/pycon-2016-tutorial/master/data/sms.tsv'\n",
    "data = pd.read_csv(url, sep='\\t', header=None, names=[\"label\", \"message\"])"
   ]
  },
  {
   "cell_type": "code",
   "execution_count": 10,
   "id": "620eada3-a0a4-4831-b1fc-80fe05ba8554",
   "metadata": {},
   "outputs": [
    {
     "data": {
      "text/html": [
       "<div>\n",
       "<style scoped>\n",
       "    .dataframe tbody tr th:only-of-type {\n",
       "        vertical-align: middle;\n",
       "    }\n",
       "\n",
       "    .dataframe tbody tr th {\n",
       "        vertical-align: top;\n",
       "    }\n",
       "\n",
       "    .dataframe thead th {\n",
       "        text-align: right;\n",
       "    }\n",
       "</style>\n",
       "<table border=\"1\" class=\"dataframe\">\n",
       "  <thead>\n",
       "    <tr style=\"text-align: right;\">\n",
       "      <th></th>\n",
       "      <th>label</th>\n",
       "      <th>message</th>\n",
       "    </tr>\n",
       "  </thead>\n",
       "  <tbody>\n",
       "    <tr>\n",
       "      <th>0</th>\n",
       "      <td>ham</td>\n",
       "      <td>Go until jurong point, crazy.. Available only ...</td>\n",
       "    </tr>\n",
       "    <tr>\n",
       "      <th>1</th>\n",
       "      <td>ham</td>\n",
       "      <td>Ok lar... Joking wif u oni...</td>\n",
       "    </tr>\n",
       "    <tr>\n",
       "      <th>2</th>\n",
       "      <td>spam</td>\n",
       "      <td>Free entry in 2 a wkly comp to win FA Cup fina...</td>\n",
       "    </tr>\n",
       "    <tr>\n",
       "      <th>3</th>\n",
       "      <td>ham</td>\n",
       "      <td>U dun say so early hor... U c already then say...</td>\n",
       "    </tr>\n",
       "    <tr>\n",
       "      <th>4</th>\n",
       "      <td>ham</td>\n",
       "      <td>Nah I don't think he goes to usf, he lives aro...</td>\n",
       "    </tr>\n",
       "  </tbody>\n",
       "</table>\n",
       "</div>"
      ],
      "text/plain": [
       "  label                                            message\n",
       "0   ham  Go until jurong point, crazy.. Available only ...\n",
       "1   ham                      Ok lar... Joking wif u oni...\n",
       "2  spam  Free entry in 2 a wkly comp to win FA Cup fina...\n",
       "3   ham  U dun say so early hor... U c already then say...\n",
       "4   ham  Nah I don't think he goes to usf, he lives aro..."
      ]
     },
     "execution_count": 10,
     "metadata": {},
     "output_type": "execute_result"
    }
   ],
   "source": [
    "data.head()"
   ]
  },
  {
   "cell_type": "markdown",
   "id": "2c517984-09d2-4c5d-9600-61984e1a44ea",
   "metadata": {},
   "source": [
    "## Let's perform text preprocessing. We will remove extra spaces, convert words to lowercase, clean messages from punctuation marks, and remove stop words."
   ]
  },
  {
   "cell_type": "code",
   "execution_count": 12,
   "id": "e8c3fc67-20c5-4a06-83e9-0998ca1d584f",
   "metadata": {},
   "outputs": [
    {
     "data": {
      "text/html": [
       "<div>\n",
       "<style scoped>\n",
       "    .dataframe tbody tr th:only-of-type {\n",
       "        vertical-align: middle;\n",
       "    }\n",
       "\n",
       "    .dataframe tbody tr th {\n",
       "        vertical-align: top;\n",
       "    }\n",
       "\n",
       "    .dataframe thead th {\n",
       "        text-align: right;\n",
       "    }\n",
       "</style>\n",
       "<table border=\"1\" class=\"dataframe\">\n",
       "  <thead>\n",
       "    <tr style=\"text-align: right;\">\n",
       "      <th></th>\n",
       "      <th>label</th>\n",
       "      <th>message</th>\n",
       "      <th>cleaned_message</th>\n",
       "    </tr>\n",
       "  </thead>\n",
       "  <tbody>\n",
       "    <tr>\n",
       "      <th>0</th>\n",
       "      <td>ham</td>\n",
       "      <td>Go until jurong point, crazy.. Available only ...</td>\n",
       "      <td>go jurong point crazy available bugis n great ...</td>\n",
       "    </tr>\n",
       "    <tr>\n",
       "      <th>1</th>\n",
       "      <td>ham</td>\n",
       "      <td>Ok lar... Joking wif u oni...</td>\n",
       "      <td>ok lar joking wif u oni</td>\n",
       "    </tr>\n",
       "    <tr>\n",
       "      <th>2</th>\n",
       "      <td>spam</td>\n",
       "      <td>Free entry in 2 a wkly comp to win FA Cup fina...</td>\n",
       "      <td>free entry 2 wkly comp win fa cup final tkts 2...</td>\n",
       "    </tr>\n",
       "    <tr>\n",
       "      <th>3</th>\n",
       "      <td>ham</td>\n",
       "      <td>U dun say so early hor... U c already then say...</td>\n",
       "      <td>u dun say early hor u c already say</td>\n",
       "    </tr>\n",
       "    <tr>\n",
       "      <th>4</th>\n",
       "      <td>ham</td>\n",
       "      <td>Nah I don't think he goes to usf, he lives aro...</td>\n",
       "      <td>nah dont think go usf life around though</td>\n",
       "    </tr>\n",
       "  </tbody>\n",
       "</table>\n",
       "</div>"
      ],
      "text/plain": [
       "  label                                            message  \\\n",
       "0   ham  Go until jurong point, crazy.. Available only ...   \n",
       "1   ham                      Ok lar... Joking wif u oni...   \n",
       "2  spam  Free entry in 2 a wkly comp to win FA Cup fina...   \n",
       "3   ham  U dun say so early hor... U c already then say...   \n",
       "4   ham  Nah I don't think he goes to usf, he lives aro...   \n",
       "\n",
       "                                     cleaned_message  \n",
       "0  go jurong point crazy available bugis n great ...  \n",
       "1                            ok lar joking wif u oni  \n",
       "2  free entry 2 wkly comp win fa cup final tkts 2...  \n",
       "3                u dun say early hor u c already say  \n",
       "4           nah dont think go usf life around though  "
      ]
     },
     "execution_count": 12,
     "metadata": {},
     "output_type": "execute_result"
    }
   ],
   "source": [
    "import unicodedata\n",
    "import sys\n",
    "import nltk\n",
    "from nltk.corpus import stopwords\n",
    "from nltk.stem import WordNetLemmatizer\n",
    "\n",
    "# Creating set of stop-words\n",
    "lemmatizer = WordNetLemmatizer()\n",
    "stop_words = set(stopwords.words('english'))\n",
    "\n",
    "# Creating dictionary for clean data from puctuation\n",
    "punctuation = dict.fromkeys(i for i in range(sys.maxunicode)\n",
    "                            if unicodedata.category(chr(i)).startswith('P'))\n",
    "\n",
    "# Creating capitalizer func to preprocess text data\n",
    "def preprocess_text(text):\n",
    "    if isinstance(text, str): \n",
    "        text = text.strip() # deleting spaces\n",
    "        text = text.lower() # lowercase\n",
    "        text = text.translate(punctuation) # clear punctuation\n",
    "        words = [lemmatizer.lemmatize(word) for word in text.split() if word not in stop_words] # delete stop words\n",
    "        return ' '.join(words)  \n",
    "    return ''  \n",
    "\n",
    "data['cleaned_message'] = data['message'].apply(preprocess_text) #creatint new column with cleaned messages\n",
    "\n",
    "\n",
    "\n",
    "data.head()"
   ]
  },
  {
   "cell_type": "markdown",
   "id": "4628ad53-c9ac-4293-b02f-00d61cef915c",
   "metadata": {},
   "source": [
    "## Let's look at the data description"
   ]
  },
  {
   "cell_type": "code",
   "execution_count": 14,
   "id": "da867d8f-da16-45b8-897b-ca4104ed34de",
   "metadata": {},
   "outputs": [
    {
     "data": {
      "text/html": [
       "<div>\n",
       "<style scoped>\n",
       "    .dataframe tbody tr th:only-of-type {\n",
       "        vertical-align: middle;\n",
       "    }\n",
       "\n",
       "    .dataframe tbody tr th {\n",
       "        vertical-align: top;\n",
       "    }\n",
       "\n",
       "    .dataframe thead th {\n",
       "        text-align: right;\n",
       "    }\n",
       "</style>\n",
       "<table border=\"1\" class=\"dataframe\">\n",
       "  <thead>\n",
       "    <tr style=\"text-align: right;\">\n",
       "      <th></th>\n",
       "      <th>label</th>\n",
       "      <th>message</th>\n",
       "      <th>cleaned_message</th>\n",
       "    </tr>\n",
       "  </thead>\n",
       "  <tbody>\n",
       "    <tr>\n",
       "      <th>count</th>\n",
       "      <td>5572</td>\n",
       "      <td>5572</td>\n",
       "      <td>5572</td>\n",
       "    </tr>\n",
       "    <tr>\n",
       "      <th>unique</th>\n",
       "      <td>2</td>\n",
       "      <td>5169</td>\n",
       "      <td>5117</td>\n",
       "    </tr>\n",
       "    <tr>\n",
       "      <th>top</th>\n",
       "      <td>ham</td>\n",
       "      <td>Sorry, I'll call later</td>\n",
       "      <td>sorry ill call later</td>\n",
       "    </tr>\n",
       "    <tr>\n",
       "      <th>freq</th>\n",
       "      <td>4825</td>\n",
       "      <td>30</td>\n",
       "      <td>30</td>\n",
       "    </tr>\n",
       "  </tbody>\n",
       "</table>\n",
       "</div>"
      ],
      "text/plain": [
       "       label                 message       cleaned_message\n",
       "count   5572                    5572                  5572\n",
       "unique     2                    5169                  5117\n",
       "top      ham  Sorry, I'll call later  sorry ill call later\n",
       "freq    4825                      30                    30"
      ]
     },
     "execution_count": 14,
     "metadata": {},
     "output_type": "execute_result"
    }
   ],
   "source": [
    "data.describe()"
   ]
  },
  {
   "cell_type": "markdown",
   "id": "44c8cd1e-64a0-4203-a59f-4a6729ad2974",
   "metadata": {},
   "source": [
    "## We can see that the dataset contains duplicates. Let's remove them."
   ]
  },
  {
   "cell_type": "code",
   "execution_count": 16,
   "id": "5d68a820-e079-48b0-9952-0dd02d3ee9f1",
   "metadata": {},
   "outputs": [
    {
     "data": {
      "text/html": [
       "<div>\n",
       "<style scoped>\n",
       "    .dataframe tbody tr th:only-of-type {\n",
       "        vertical-align: middle;\n",
       "    }\n",
       "\n",
       "    .dataframe tbody tr th {\n",
       "        vertical-align: top;\n",
       "    }\n",
       "\n",
       "    .dataframe thead th {\n",
       "        text-align: right;\n",
       "    }\n",
       "</style>\n",
       "<table border=\"1\" class=\"dataframe\">\n",
       "  <thead>\n",
       "    <tr style=\"text-align: right;\">\n",
       "      <th></th>\n",
       "      <th>label</th>\n",
       "      <th>message</th>\n",
       "      <th>cleaned_message</th>\n",
       "    </tr>\n",
       "  </thead>\n",
       "  <tbody>\n",
       "    <tr>\n",
       "      <th>0</th>\n",
       "      <td>ham</td>\n",
       "      <td>Go until jurong point, crazy.. Available only ...</td>\n",
       "      <td>go jurong point crazy available bugis n great ...</td>\n",
       "    </tr>\n",
       "    <tr>\n",
       "      <th>1</th>\n",
       "      <td>ham</td>\n",
       "      <td>Ok lar... Joking wif u oni...</td>\n",
       "      <td>ok lar joking wif u oni</td>\n",
       "    </tr>\n",
       "    <tr>\n",
       "      <th>2</th>\n",
       "      <td>spam</td>\n",
       "      <td>Free entry in 2 a wkly comp to win FA Cup fina...</td>\n",
       "      <td>free entry 2 wkly comp win fa cup final tkts 2...</td>\n",
       "    </tr>\n",
       "    <tr>\n",
       "      <th>3</th>\n",
       "      <td>ham</td>\n",
       "      <td>U dun say so early hor... U c already then say...</td>\n",
       "      <td>u dun say early hor u c already say</td>\n",
       "    </tr>\n",
       "    <tr>\n",
       "      <th>4</th>\n",
       "      <td>ham</td>\n",
       "      <td>Nah I don't think he goes to usf, he lives aro...</td>\n",
       "      <td>nah dont think go usf life around though</td>\n",
       "    </tr>\n",
       "  </tbody>\n",
       "</table>\n",
       "</div>"
      ],
      "text/plain": [
       "  label                                            message  \\\n",
       "0   ham  Go until jurong point, crazy.. Available only ...   \n",
       "1   ham                      Ok lar... Joking wif u oni...   \n",
       "2  spam  Free entry in 2 a wkly comp to win FA Cup fina...   \n",
       "3   ham  U dun say so early hor... U c already then say...   \n",
       "4   ham  Nah I don't think he goes to usf, he lives aro...   \n",
       "\n",
       "                                     cleaned_message  \n",
       "0  go jurong point crazy available bugis n great ...  \n",
       "1                            ok lar joking wif u oni  \n",
       "2  free entry 2 wkly comp win fa cup final tkts 2...  \n",
       "3                u dun say early hor u c already say  \n",
       "4           nah dont think go usf life around though  "
      ]
     },
     "execution_count": 16,
     "metadata": {},
     "output_type": "execute_result"
    }
   ],
   "source": [
    "data_cleaned = data.drop_duplicates(subset=['cleaned_message']) #deleting duplicates\n",
    "data_cleaned.head()"
   ]
  },
  {
   "cell_type": "markdown",
   "id": "cc04fcda-8898-48c5-9f2e-81b4d8472955",
   "metadata": {},
   "source": [
    "## Let's create a new DataFrame without the column containing the raw (uncleaned) messages."
   ]
  },
  {
   "cell_type": "code",
   "execution_count": 18,
   "id": "8e9bfed5-4945-4166-bafc-018a5f28c9e7",
   "metadata": {},
   "outputs": [
    {
     "data": {
      "text/html": [
       "<div>\n",
       "<style scoped>\n",
       "    .dataframe tbody tr th:only-of-type {\n",
       "        vertical-align: middle;\n",
       "    }\n",
       "\n",
       "    .dataframe tbody tr th {\n",
       "        vertical-align: top;\n",
       "    }\n",
       "\n",
       "    .dataframe thead th {\n",
       "        text-align: right;\n",
       "    }\n",
       "</style>\n",
       "<table border=\"1\" class=\"dataframe\">\n",
       "  <thead>\n",
       "    <tr style=\"text-align: right;\">\n",
       "      <th></th>\n",
       "      <th>label</th>\n",
       "      <th>cleaned_message</th>\n",
       "    </tr>\n",
       "  </thead>\n",
       "  <tbody>\n",
       "    <tr>\n",
       "      <th>0</th>\n",
       "      <td>ham</td>\n",
       "      <td>go jurong point crazy available bugis n great ...</td>\n",
       "    </tr>\n",
       "    <tr>\n",
       "      <th>1</th>\n",
       "      <td>ham</td>\n",
       "      <td>ok lar joking wif u oni</td>\n",
       "    </tr>\n",
       "    <tr>\n",
       "      <th>2</th>\n",
       "      <td>spam</td>\n",
       "      <td>free entry 2 wkly comp win fa cup final tkts 2...</td>\n",
       "    </tr>\n",
       "    <tr>\n",
       "      <th>3</th>\n",
       "      <td>ham</td>\n",
       "      <td>u dun say early hor u c already say</td>\n",
       "    </tr>\n",
       "    <tr>\n",
       "      <th>4</th>\n",
       "      <td>ham</td>\n",
       "      <td>nah dont think go usf life around though</td>\n",
       "    </tr>\n",
       "  </tbody>\n",
       "</table>\n",
       "</div>"
      ],
      "text/plain": [
       "  label                                    cleaned_message\n",
       "0   ham  go jurong point crazy available bugis n great ...\n",
       "1   ham                            ok lar joking wif u oni\n",
       "2  spam  free entry 2 wkly comp win fa cup final tkts 2...\n",
       "3   ham                u dun say early hor u c already say\n",
       "4   ham           nah dont think go usf life around though"
      ]
     },
     "execution_count": 18,
     "metadata": {},
     "output_type": "execute_result"
    }
   ],
   "source": [
    "data_dcleanned = data_cleaned.drop('message', axis=1) # deleting 'message'\n",
    "data_dcleanned.head()\n"
   ]
  },
  {
   "cell_type": "markdown",
   "id": "cb70b400-4815-421e-b438-095a7d969fa9",
   "metadata": {},
   "source": [
    "## Let's take a look at the description of our data."
   ]
  },
  {
   "cell_type": "code",
   "execution_count": 20,
   "id": "fe4bea7b-8659-4985-a503-1601ce3fe873",
   "metadata": {},
   "outputs": [
    {
     "data": {
      "text/html": [
       "<div>\n",
       "<style scoped>\n",
       "    .dataframe tbody tr th:only-of-type {\n",
       "        vertical-align: middle;\n",
       "    }\n",
       "\n",
       "    .dataframe tbody tr th {\n",
       "        vertical-align: top;\n",
       "    }\n",
       "\n",
       "    .dataframe thead th {\n",
       "        text-align: right;\n",
       "    }\n",
       "</style>\n",
       "<table border=\"1\" class=\"dataframe\">\n",
       "  <thead>\n",
       "    <tr style=\"text-align: right;\">\n",
       "      <th></th>\n",
       "      <th>label</th>\n",
       "      <th>cleaned_message</th>\n",
       "    </tr>\n",
       "  </thead>\n",
       "  <tbody>\n",
       "    <tr>\n",
       "      <th>count</th>\n",
       "      <td>5117</td>\n",
       "      <td>5117</td>\n",
       "    </tr>\n",
       "    <tr>\n",
       "      <th>unique</th>\n",
       "      <td>2</td>\n",
       "      <td>5117</td>\n",
       "    </tr>\n",
       "    <tr>\n",
       "      <th>top</th>\n",
       "      <td>ham</td>\n",
       "      <td>go jurong point crazy available bugis n great ...</td>\n",
       "    </tr>\n",
       "    <tr>\n",
       "      <th>freq</th>\n",
       "      <td>4485</td>\n",
       "      <td>1</td>\n",
       "    </tr>\n",
       "  </tbody>\n",
       "</table>\n",
       "</div>"
      ],
      "text/plain": [
       "       label                                    cleaned_message\n",
       "count   5117                                               5117\n",
       "unique     2                                               5117\n",
       "top      ham  go jurong point crazy available bugis n great ...\n",
       "freq    4485                                                  1"
      ]
     },
     "execution_count": 20,
     "metadata": {},
     "output_type": "execute_result"
    }
   ],
   "source": [
    "data_dcleanned.describe()\n"
   ]
  },
  {
   "cell_type": "markdown",
   "id": "356623bc-b1c4-48df-82e7-e5c435cccfed",
   "metadata": {},
   "source": [
    "## Let's analyze the distribution of our labels by count."
   ]
  },
  {
   "cell_type": "code",
   "execution_count": 22,
   "id": "592794bd-c39c-4886-a95e-a5331a224acd",
   "metadata": {},
   "outputs": [
    {
     "data": {
      "text/plain": [
       "label\n",
       "ham     4825\n",
       "spam     747\n",
       "Name: count, dtype: int64"
      ]
     },
     "execution_count": 22,
     "metadata": {},
     "output_type": "execute_result"
    }
   ],
   "source": [
    "data['label'].value_counts()\n"
   ]
  },
  {
   "cell_type": "code",
   "execution_count": 23,
   "id": "33b68e21-1e77-47b0-b735-70a77e8de0ad",
   "metadata": {},
   "outputs": [
    {
     "data": {
      "image/png": "[encoded data removed]",
      "text/plain": [
       "<Figure size 600x400 with 1 Axes>"
      ]
     },
     "metadata": {},
     "output_type": "display_data"
    }
   ],
   "source": [
    "import matplotlib.pyplot as plt\n",
    "import seaborn as sns\n",
    "\n",
    "\n",
    "plt.figure(figsize=(6, 4)) #creating histogramm\n",
    "sns.countplot(x='label', data=data) \n",
    "plt.title('Label distribution (Ham и Spam)')\n",
    "plt.xlabel('Label')\n",
    "plt.ylabel('Count')\n",
    "plt.show()\n"
   ]
  },
  {
   "cell_type": "markdown",
   "id": "7f778d92-5156-4be1-8d22-1fddfeccdf5d",
   "metadata": {},
   "source": [
    "## This code preprocesses text data using a Bag of Words (BoW) representation and builds a binary text classification model. It uses CountVectorizer for feature extraction and LabelEncoder for label encoding. A simple feedforward neural network with two hidden layers is trained using Keras, and performance is evaluated on a test set."
   ]
  },
  {
   "cell_type": "code",
   "execution_count": 53,
   "id": "8b4d53e3-1dfd-4596-97bd-d6355d4e2e46",
   "metadata": {},
   "outputs": [
    {
     "name": "stdout",
     "output_type": "stream",
     "text": [
      "Feature matrix size: (5572, 400)\n",
      "Epoch 1/23\n",
      "\u001b[1m45/45\u001b[0m \u001b[32m━━━━━━━━━━━━━━━━━━━━\u001b[0m\u001b[37m\u001b[0m \u001b[1m1s\u001b[0m 4ms/step - accuracy: 0.7302 - loss: 0.6560 - val_accuracy: 0.9309 - val_loss: 0.5235\n",
      "Epoch 2/23\n",
      "\u001b[1m45/45\u001b[0m \u001b[32m━━━━━━━━━━━━━━━━━━━━\u001b[0m\u001b[37m\u001b[0m \u001b[1m0s\u001b[0m 1ms/step - accuracy: 0.9320 - loss: 0.4770 - val_accuracy: 0.9570 - val_loss: 0.3320\n",
      "Epoch 3/23\n",
      "\u001b[1m45/45\u001b[0m \u001b[32m━━━━━━━━━━━━━━━━━━━━\u001b[0m\u001b[37m\u001b[0m \u001b[1m0s\u001b[0m 2ms/step - accuracy: 0.9591 - loss: 0.2885 - val_accuracy: 0.9677 - val_loss: 0.1982\n",
      "Epoch 4/23\n",
      "\u001b[1m45/45\u001b[0m \u001b[32m━━━━━━━━━━━━━━━━━━━━\u001b[0m\u001b[37m\u001b[0m \u001b[1m0s\u001b[0m 1ms/step - accuracy: 0.9682 - loss: 0.1731 - val_accuracy: 0.9713 - val_loss: 0.1309\n",
      "Epoch 5/23\n",
      "\u001b[1m45/45\u001b[0m \u001b[32m━━━━━━━━━━━━━━━━━━━━\u001b[0m\u001b[37m\u001b[0m \u001b[1m0s\u001b[0m 1ms/step - accuracy: 0.9748 - loss: 0.1131 - val_accuracy: 0.9731 - val_loss: 0.1013\n",
      "Epoch 6/23\n",
      "\u001b[1m45/45\u001b[0m \u001b[32m━━━━━━━━━━━━━━━━━━━━\u001b[0m\u001b[37m\u001b[0m \u001b[1m0s\u001b[0m 2ms/step - accuracy: 0.9796 - loss: 0.0873 - val_accuracy: 0.9767 - val_loss: 0.0866\n",
      "Epoch 7/23\n",
      "\u001b[1m45/45\u001b[0m \u001b[32m━━━━━━━━━━━━━━━━━━━━\u001b[0m\u001b[37m\u001b[0m \u001b[1m0s\u001b[0m 1ms/step - accuracy: 0.9771 - loss: 0.0718 - val_accuracy: 0.9803 - val_loss: 0.0805\n",
      "Epoch 8/23\n",
      "\u001b[1m45/45\u001b[0m \u001b[32m━━━━━━━━━━━━━━━━━━━━\u001b[0m\u001b[37m\u001b[0m \u001b[1m0s\u001b[0m 1ms/step - accuracy: 0.9814 - loss: 0.0628 - val_accuracy: 0.9812 - val_loss: 0.0768\n",
      "Epoch 9/23\n",
      "\u001b[1m45/45\u001b[0m \u001b[32m━━━━━━━━━━━━━━━━━━━━\u001b[0m\u001b[37m\u001b[0m \u001b[1m0s\u001b[0m 1ms/step - accuracy: 0.9871 - loss: 0.0476 - val_accuracy: 0.9794 - val_loss: 0.0748\n",
      "Epoch 10/23\n",
      "\u001b[1m45/45\u001b[0m \u001b[32m━━━━━━━━━━━━━━━━━━━━\u001b[0m\u001b[37m\u001b[0m \u001b[1m0s\u001b[0m 1ms/step - accuracy: 0.9829 - loss: 0.0559 - val_accuracy: 0.9812 - val_loss: 0.0745\n",
      "Epoch 11/23\n",
      "\u001b[1m45/45\u001b[0m \u001b[32m━━━━━━━━━━━━━━━━━━━━\u001b[0m\u001b[37m\u001b[0m \u001b[1m0s\u001b[0m 1ms/step - accuracy: 0.9837 - loss: 0.0507 - val_accuracy: 0.9812 - val_loss: 0.0736\n",
      "Epoch 12/23\n",
      "\u001b[1m45/45\u001b[0m \u001b[32m━━━━━━━━━━━━━━━━━━━━\u001b[0m\u001b[37m\u001b[0m \u001b[1m0s\u001b[0m 1ms/step - accuracy: 0.9854 - loss: 0.0471 - val_accuracy: 0.9803 - val_loss: 0.0734\n",
      "Epoch 13/23\n",
      "\u001b[1m45/45\u001b[0m \u001b[32m━━━━━━━━━━━━━━━━━━━━\u001b[0m\u001b[37m\u001b[0m \u001b[1m0s\u001b[0m 1ms/step - accuracy: 0.9821 - loss: 0.0504 - val_accuracy: 0.9821 - val_loss: 0.0734\n",
      "Epoch 14/23\n",
      "\u001b[1m45/45\u001b[0m \u001b[32m━━━━━━━━━━━━━━━━━━━━\u001b[0m\u001b[37m\u001b[0m \u001b[1m0s\u001b[0m 2ms/step - accuracy: 0.9850 - loss: 0.0445 - val_accuracy: 0.9812 - val_loss: 0.0741\n",
      "Epoch 15/23\n",
      "\u001b[1m45/45\u001b[0m \u001b[32m━━━━━━━━━━━━━━━━━━━━\u001b[0m\u001b[37m\u001b[0m \u001b[1m0s\u001b[0m 1ms/step - accuracy: 0.9875 - loss: 0.0426 - val_accuracy: 0.9821 - val_loss: 0.0751\n",
      "Epoch 16/23\n",
      "\u001b[1m45/45\u001b[0m \u001b[32m━━━━━━━━━━━━━━━━━━━━\u001b[0m\u001b[37m\u001b[0m \u001b[1m0s\u001b[0m 1ms/step - accuracy: 0.9884 - loss: 0.0374 - val_accuracy: 0.9803 - val_loss: 0.0751\n",
      "Epoch 17/23\n",
      "\u001b[1m45/45\u001b[0m \u001b[32m━━━━━━━━━━━━━━━━━━━━\u001b[0m\u001b[37m\u001b[0m \u001b[1m0s\u001b[0m 1ms/step - accuracy: 0.9885 - loss: 0.0359 - val_accuracy: 0.9776 - val_loss: 0.0760\n",
      "Epoch 18/23\n",
      "\u001b[1m45/45\u001b[0m \u001b[32m━━━━━━━━━━━━━━━━━━━━\u001b[0m\u001b[37m\u001b[0m \u001b[1m0s\u001b[0m 1ms/step - accuracy: 0.9881 - loss: 0.0358 - val_accuracy: 0.9821 - val_loss: 0.0771\n",
      "Epoch 19/23\n",
      "\u001b[1m45/45\u001b[0m \u001b[32m━━━━━━━━━━━━━━━━━━━━\u001b[0m\u001b[37m\u001b[0m \u001b[1m0s\u001b[0m 1ms/step - accuracy: 0.9886 - loss: 0.0423 - val_accuracy: 0.9785 - val_loss: 0.0780\n",
      "Epoch 20/23\n",
      "\u001b[1m45/45\u001b[0m \u001b[32m━━━━━━━━━━━━━━━━━━━━\u001b[0m\u001b[37m\u001b[0m \u001b[1m0s\u001b[0m 1ms/step - accuracy: 0.9909 - loss: 0.0289 - val_accuracy: 0.9776 - val_loss: 0.0794\n",
      "Epoch 21/23\n",
      "\u001b[1m45/45\u001b[0m \u001b[32m━━━━━━━━━━━━━━━━━━━━\u001b[0m\u001b[37m\u001b[0m \u001b[1m0s\u001b[0m 1ms/step - accuracy: 0.9917 - loss: 0.0309 - val_accuracy: 0.9749 - val_loss: 0.0817\n",
      "Epoch 22/23\n",
      "\u001b[1m45/45\u001b[0m \u001b[32m━━━━━━━━━━━━━━━━━━━━\u001b[0m\u001b[37m\u001b[0m \u001b[1m0s\u001b[0m 1ms/step - accuracy: 0.9894 - loss: 0.0320 - val_accuracy: 0.9767 - val_loss: 0.0815\n",
      "Epoch 23/23\n",
      "\u001b[1m45/45\u001b[0m \u001b[32m━━━━━━━━━━━━━━━━━━━━\u001b[0m\u001b[37m\u001b[0m \u001b[1m0s\u001b[0m 1ms/step - accuracy: 0.9880 - loss: 0.0360 - val_accuracy: 0.9758 - val_loss: 0.0833\n"
     ]
    }
   ],
   "source": [
    "import numpy as np\n",
    "from sklearn.feature_extraction.text import CountVectorizer\n",
    "from sklearn.preprocessing import LabelEncoder\n",
    "from sklearn.model_selection import train_test_split\n",
    "from tensorflow.keras import models, layers, Input\n",
    "\n",
    "# Set a seed for the pseudo-random number generator to ensure reproducibility\n",
    "np.random.seed(0)\n",
    "\n",
    "# Create a Bag of Words (BoW) using CountVectorizer\n",
    "# Using the top 400 most frequent words, with a binary presence indicator\n",
    "vectorizer = CountVectorizer(max_features=400)\n",
    "features = vectorizer.fit_transform(data['cleaned_message'])\n",
    "\n",
    "# Check the size of the feature matrix\n",
    "print(\"Feature matrix size:\", features.shape)  # Expected: (number of messages, 400)\n",
    "\n",
    "# Encode the labels to (0, 1)\n",
    "encoder = LabelEncoder()\n",
    "targets = encoder.fit_transform(data['label'])\n",
    "\n",
    "# Split the data into training and testing sets\n",
    "features_train, features_test, targets_train, targets_test = train_test_split(\n",
    "    features, targets, test_size=0.2, random_state=42)\n",
    "\n",
    "# Convert sparse matrices to dense numpy arrays\n",
    "features_train = features_train.toarray()\n",
    "features_test = features_test.toarray()\n",
    "\n",
    "# Set the number of features (expected to be 400)\n",
    "number_of_features = features_train.shape[1]\n",
    "\n",
    "# Initialize the neural network model\n",
    "network = models.Sequential()\n",
    "\n",
    "# Add input layer\n",
    "network.add(Input(shape=(number_of_features,)))\n",
    "\n",
    "# Add fully connected (Dense) layers with ReLU activation\n",
    "network.add(layers.Dense(units=16, activation=\"relu\"))\n",
    "network.add(layers.Dense(units=16, activation=\"relu\"))\n",
    "\n",
    "# Add a fully connected output layer with sigmoid activation\n",
    "network.add(layers.Dense(units=1, activation=\"sigmoid\"))\n",
    "\n",
    "# Compile the model with binary crossentropy loss and RMSProp optimizer\n",
    "network.compile(\n",
    "    loss=\"binary_crossentropy\",\n",
    "    optimizer=\"rmsprop\",\n",
    "    metrics=[\"accuracy\"])\n",
    "\n",
    "# Train the neural network\n",
    "history = network.fit(\n",
    "    features_train,\n",
    "    targets_train,\n",
    "    epochs=23,\n",
    "    verbose=1,\n",
    "    batch_size=100,\n",
    "    validation_data=(features_test, targets_test))\n"
   ]
  },
  {
   "cell_type": "markdown",
   "id": "36df269f-9cd2-4a8b-ba50-47555591d6f9",
   "metadata": {},
   "source": [
    "## This code plots training and validation loss over epochs to evaluate the model's performance. The loss values are retrieved from the training history, and matplotlib is used to visualize trends, helping identify overfitting or underfitting."
   ]
  },
  {
   "cell_type": "code",
   "execution_count": 27,
   "id": "c197b7f2-4bba-42d0-8afa-c445eae3f1c4",
   "metadata": {},
   "outputs": [
    {
     "data": {
      "image/png": "[encoded data removed]",
      "text/plain": [
       "<Figure size 640x480 with 1 Axes>"
      ]
     },
     "metadata": {},
     "output_type": "display_data"
    }
   ],
   "source": [
    "# Retrieve training and testing loss history\n",
    "training_loss = history.history[\"loss\"]\n",
    "test_loss = history.history[\"val_loss\"]\n",
    "\n",
    "# Create a counter for the number of epochs\n",
    "epoch_count = range(1, len(training_loss) + 1)\n",
    "\n",
    "# Visualize the loss history\n",
    "plt.plot(epoch_count, training_loss, \"r-\")\n",
    "plt.plot(epoch_count, test_loss, \"b-\")\n",
    "plt.legend([\"Training Loss\", \"Validation Loss\"])\n",
    "plt.xlabel(\"Epoch\")\n",
    "plt.ylabel(\"Loss\")\n",
    "plt.show()\n"
   ]
  },
  {
   "cell_type": "markdown",
   "id": "0f1b26a7-201f-4675-b0b8-3c5de77fdbf3",
   "metadata": {},
   "source": [
    "## This code plots training and validation accuracy over epochs to assess model performance. Accuracy values are retrieved from the training history and visualized using matplotlib."
   ]
  },
  {
   "cell_type": "code",
   "execution_count": 29,
   "id": "d71aa327-d3c4-4dba-982f-08d4697fcb3f",
   "metadata": {
    "scrolled": true
   },
   "outputs": [
    {
     "data": {
      "image/png": "[encoded data removed]",
      "text/plain": [
       "<Figure size 640x480 with 1 Axes>"
      ]
     },
     "metadata": {},
     "output_type": "display_data"
    }
   ],
   "source": [
    "# Retrieve training and testing accuracy history\n",
    "training_accuracy = history.history[\"accuracy\"]\n",
    "test_accuracy = history.history[\"val_accuracy\"]\n",
    "\n",
    "plt.plot(epoch_count, training_accuracy, \"r-\")\n",
    "plt.plot(epoch_count, test_accuracy, \"b-\")\n",
    "# Visualize the accuracy history\n",
    "plt.legend([\"Training Accuracy\", \"Validation Accuracy\"])\n",
    "plt.xlabel(\"Epoch\")\n",
    "plt.ylabel(\"Accuracy\")\n",
    "plt.show();\n",
    "\n"
   ]
  },
  {
   "cell_type": "markdown",
   "id": "31ac9382-780c-4917-bd4c-3a1bff261b0a",
   "metadata": {},
   "source": [
    "## This code preprocesses text data by tokenizing and padding sequences, then builds an LSTM-based neural network for binary text classification. It includes an embedding layer, an LSTM layer, and a sigmoid-activated output layer, trained with the Adam optimizer and binary cross-entropy loss."
   ]
  },
  {
   "cell_type": "code",
   "execution_count": 31,
   "id": "726b28ad-856b-403a-9dd4-5d5740cb75d5",
   "metadata": {},
   "outputs": [
    {
     "name": "stdout",
     "output_type": "stream",
     "text": [
      "Epoch 1/10\n",
      "\u001b[1m45/45\u001b[0m \u001b[32m━━━━━━━━━━━━━━━━━━━━\u001b[0m\u001b[37m\u001b[0m \u001b[1m9s\u001b[0m 166ms/step - accuracy: 0.8617 - loss: 0.4898 - val_accuracy: 0.8789 - val_loss: 0.2846\n",
      "Epoch 2/10\n",
      "\u001b[1m45/45\u001b[0m \u001b[32m━━━━━━━━━━━━━━━━━━━━\u001b[0m\u001b[37m\u001b[0m \u001b[1m7s\u001b[0m 161ms/step - accuracy: 0.9058 - loss: 0.2504 - val_accuracy: 0.9543 - val_loss: 0.1758\n",
      "Epoch 3/10\n",
      "\u001b[1m45/45\u001b[0m \u001b[32m━━━━━━━━━━━━━━━━━━━━\u001b[0m\u001b[37m\u001b[0m \u001b[1m7s\u001b[0m 162ms/step - accuracy: 0.9573 - loss: 0.1512 - val_accuracy: 0.9713 - val_loss: 0.1069\n",
      "Epoch 4/10\n",
      "\u001b[1m45/45\u001b[0m \u001b[32m━━━━━━━━━━━━━━━━━━━━\u001b[0m\u001b[37m\u001b[0m \u001b[1m7s\u001b[0m 157ms/step - accuracy: 0.9765 - loss: 0.0953 - val_accuracy: 0.9785 - val_loss: 0.0828\n",
      "Epoch 5/10\n",
      "\u001b[1m45/45\u001b[0m \u001b[32m━━━━━━━━━━━━━━━━━━━━\u001b[0m\u001b[37m\u001b[0m \u001b[1m7s\u001b[0m 158ms/step - accuracy: 0.9777 - loss: 0.0766 - val_accuracy: 0.9794 - val_loss: 0.0743\n",
      "Epoch 6/10\n",
      "\u001b[1m45/45\u001b[0m \u001b[32m━━━━━━━━━━━━━━━━━━━━\u001b[0m\u001b[37m\u001b[0m \u001b[1m7s\u001b[0m 164ms/step - accuracy: 0.9840 - loss: 0.0608 - val_accuracy: 0.9794 - val_loss: 0.0721\n",
      "Epoch 7/10\n",
      "\u001b[1m45/45\u001b[0m \u001b[32m━━━━━━━━━━━━━━━━━━━━\u001b[0m\u001b[37m\u001b[0m \u001b[1m8s\u001b[0m 167ms/step - accuracy: 0.9787 - loss: 0.0683 - val_accuracy: 0.9785 - val_loss: 0.0748\n",
      "Epoch 8/10\n",
      "\u001b[1m45/45\u001b[0m \u001b[32m━━━━━━━━━━━━━━━━━━━━\u001b[0m\u001b[37m\u001b[0m \u001b[1m7s\u001b[0m 164ms/step - accuracy: 0.9883 - loss: 0.0465 - val_accuracy: 0.9803 - val_loss: 0.0703\n",
      "Epoch 9/10\n",
      "\u001b[1m45/45\u001b[0m \u001b[32m━━━━━━━━━━━━━━━━━━━━\u001b[0m\u001b[37m\u001b[0m \u001b[1m7s\u001b[0m 166ms/step - accuracy: 0.9879 - loss: 0.0454 - val_accuracy: 0.9794 - val_loss: 0.0738\n",
      "Epoch 10/10\n",
      "\u001b[1m45/45\u001b[0m \u001b[32m━━━━━━━━━━━━━━━━━━━━\u001b[0m\u001b[37m\u001b[0m \u001b[1m8s\u001b[0m 168ms/step - accuracy: 0.9896 - loss: 0.0402 - val_accuracy: 0.9785 - val_loss: 0.0746\n"
     ]
    }
   ],
   "source": [
    "from tensorflow.keras.preprocessing.text import Tokenizer\n",
    "from tensorflow.keras.preprocessing.sequence import pad_sequences\n",
    "\n",
    "# Initialize the tokenizer\n",
    "tokenizer = Tokenizer(num_words=400)  # Limit to the 400 most common words\n",
    "tokenizer.fit_on_texts(data['cleaned_message'])\n",
    "\n",
    "# Convert the texts to sequences of integers\n",
    "sequences = tokenizer.texts_to_sequences(data['cleaned_message'])\n",
    "\n",
    "# Pad the sequences to ensure they are all the same length\n",
    "max_sequence_length = 800  # You can set this to the maximum length of your sequences\n",
    "features = pad_sequences(sequences, maxlen=max_sequence_length)\n",
    "\n",
    "encoder = LabelEncoder()\n",
    "targets = encoder.fit_transform(data['label'])\n",
    "\n",
    "# Split the data into training and testing sets\n",
    "features_train, features_test, targets_train, targets_test = train_test_split(\n",
    "    features, targets, test_size=0.2, random_state=42)\n",
    "\n",
    "network = models.Sequential()\n",
    "\n",
    "# Add an embedding layer\n",
    "network.add(layers.Embedding(input_dim=number_of_features, output_dim=32))\n",
    "\n",
    "# Add an LSTM layer with 128 units (Long Short-Term Memory)\n",
    "network.add(layers.LSTM(units=32))\n",
    "\n",
    "# Add a fully connected layer with a sigmoid activation function\n",
    "network.add(layers.Dense(units=1, activation=\"sigmoid\"))\n",
    "\n",
    "# Compile the neural network\n",
    "network.compile(\n",
    "    loss=\"binary_crossentropy\",  # Cross-entropy loss\n",
    "    optimizer=\"Adam\",  # Adam optimizer\n",
    "    metrics=[\"accuracy\"]  # Accuracy metric\n",
    ")\n",
    "\n",
    "# Train the neural network\n",
    "history = network.fit(\n",
    "    features_train,  # Features\n",
    "    targets_train,  # Targets\n",
    "    epochs=10,  # Number of epochs\n",
    "    verbose=1,  # Do not print the description after each epoch\n",
    "    batch_size=100,  # Number of samples per batch\n",
    "    validation_data=(features_test, targets_test)  # Test data\n",
    ")\n"
   ]
  },
  {
   "cell_type": "markdown",
   "id": "cb9e779a-336d-4b15-bf16-c9e37e39d5b9",
   "metadata": {},
   "source": [
    "## This code plots training and validation loss over epochs to evaluate the model's performance. The loss values are retrieved from the training history, and matplotlib is used to visualize trends, helping identify overfitting or underfitting."
   ]
  },
  {
   "cell_type": "code",
   "execution_count": 33,
   "id": "ee39dc59-0f07-4ddc-b356-951bfc609a8c",
   "metadata": {},
   "outputs": [
    {
     "data": {
      "image/png": "[encoded data removed]",
      "text/plain": [
       "<Figure size 640x480 with 1 Axes>"
      ]
     },
     "metadata": {},
     "output_type": "display_data"
    }
   ],
   "source": [
    "# Retrieve training and testing loss history\n",
    "training_loss = history.history[\"loss\"]\n",
    "test_loss = history.history[\"val_loss\"]\n",
    "\n",
    "# Create a counter for the number of epochs\n",
    "epoch_count = range(1, len(training_loss) + 1)\n",
    "\n",
    "# Visualize the loss history\n",
    "plt.plot(epoch_count, training_loss, \"r-\")\n",
    "plt.plot(epoch_count, test_loss, \"b-\")\n",
    "plt.legend([\"Training Loss\", \"Validation Loss\"])\n",
    "plt.xlabel(\"Epoch\")\n",
    "plt.ylabel(\"Loss\")\n",
    "plt.show()"
   ]
  },
  {
   "cell_type": "markdown",
   "id": "c1e8cbb2-dfae-4692-985c-a50e1e8e20d8",
   "metadata": {},
   "source": [
    "## This code plots training and validation accuracy over epochs to assess model performance. Accuracy values are retrieved from the training history and visualized using matplotlib."
   ]
  },
  {
   "cell_type": "code",
   "execution_count": 35,
   "id": "70f9dfd8-2fc9-4010-b5f7-a73932b601dc",
   "metadata": {},
   "outputs": [
    {
     "data": {
      "image/png": "[encoded data removed]",
      "text/plain": [
       "<Figure size 640x480 with 1 Axes>"
      ]
     },
     "metadata": {},
     "output_type": "display_data"
    }
   ],
   "source": [
    "# Retrieve training and testing accuracy history\n",
    "training_accuracy = history.history[\"accuracy\"]\n",
    "test_accuracy = history.history[\"val_accuracy\"]\n",
    "\n",
    "plt.plot(epoch_count, training_accuracy, \"r-\")\n",
    "plt.plot(epoch_count, test_accuracy, \"b-\")\n",
    "# Visualize the accuracy history\n",
    "plt.legend([\"Training Accuracy\", \"Validation Accuracy\"])\n",
    "plt.xlabel(\"Epoch\")\n",
    "plt.ylabel(\"Accuracy\")\n",
    "plt.show();"
   ]
  },
  {
   "cell_type": "code",
   "execution_count": null,
   "id": "cbdbe9a1-4aba-4c89-8e68-74d55b832135",
   "metadata": {},
   "outputs": [],
   "source": []
  }
 ],
 "metadata": {
  "kernelspec": {
   "display_name": "Python 3 (ipykernel)",
   "language": "python",
   "name": "python3"
  },
  "language_info": {
   "codemirror_mode": {
    "name": "ipython",
    "version": 3
   },
   "file_extension": ".py",
   "mimetype": "text/x-python",
   "name": "python",
   "nbconvert_exporter": "python",
   "pygments_lexer": "ipython3",
   "version": "3.12.7"
  }
 },
 "nbformat": 4,
 "nbformat_minor": 5
}
